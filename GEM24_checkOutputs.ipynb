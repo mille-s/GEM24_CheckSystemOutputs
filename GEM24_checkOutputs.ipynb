{
  "nbformat": 4,
  "nbformat_minor": 0,
  "metadata": {
    "colab": {
      "provenance": [],
      "authorship_tag": "ABX9TyMY5Jod9GeweowlH/8IHlB8",
      "include_colab_link": true
    },
    "kernelspec": {
      "name": "python3",
      "display_name": "Python 3"
    },
    "language_info": {
      "name": "python"
    }
  },
  "cells": [
    {
      "cell_type": "markdown",
      "metadata": {
        "id": "view-in-github",
        "colab_type": "text"
      },
      "source": [
        "<a href=\"https://colab.research.google.com/github/mille-s/GEM24_CheckSystemOutputs/blob/main/GEM24_checkOutputs.ipynb\" target=\"_parent\"><img src=\"https://colab.research.google.com/assets/colab-badge.svg\" alt=\"Open In Colab\"/></a>"
      ]
    },
    {
      "cell_type": "markdown",
      "source": [],
      "metadata": {
        "id": "-Kyy8xfdxlWx"
      }
    },
    {
      "cell_type": "code",
      "source": [
        "#@title 1- Run to create out folder\n",
        "import os\n",
        "out_folder = 'out'\n",
        "if not os.path.exists(out_folder):\n",
        "  os.makedirs(out_folder)"
      ],
      "metadata": {
        "id": "WgCRVL1MtEdZ",
        "cellView": "form"
      },
      "execution_count": null,
      "outputs": []
    },
    {
      "cell_type": "markdown",
      "source": [
        "### 2- After running the first cell, upload your files (unzipped) in the \"out\" folder just created (click on \"Files\" on the left panel to see the folder); then run the first cell below for checking your output file(s)."
      ],
      "metadata": {
        "id": "k_kYKzmGsgdK"
      }
    },
    {
      "cell_type": "code",
      "execution_count": null,
      "metadata": {
        "cellView": "form",
        "id": "pZCwZ3u1saT6"
      },
      "outputs": [],
      "source": [
        "#@title Run to check uploaded files\n",
        "import glob\n",
        "import codecs\n",
        "import json\n",
        "\n",
        "paths_submissions = glob.glob(os.path.join(out_folder, '*'))\n",
        "\n",
        "def check_GEM_submissions(path_submission, sys_output):\n",
        "  # Check name\n",
        "  task_suffixes = ('_D2T-1-FA', '_D2T-1-FI', '_D2T-1-CFA', '_D2T-2-FA', '_D2T-2-FI', '_D2T-2-CFA', '_Summ-1', '_Summ-2', '_Summ-3')\n",
        "  d2t1_IDs = ['D2T-1-FA', 'D2T-1-FI', 'D2T-1-CFA']\n",
        "  d2t2_IDs = ['D2T-2-FA', 'D2T-2-FI', 'D2T-2-CFA']\n",
        "  summ_IDs = ['Summ-1', 'Summ-2', 'Summ-3']\n",
        "  languages = ('_en', '_zh', '_de', '_ru', '_es', '_ko', '_hi', '_sw', '_ar')\n",
        "  extensions = ('.txt', '.jsonl')\n",
        "\n",
        "  filename = os.path.basename(path_submission)\n",
        "  print(filename)\n",
        "\n",
        "  # Check extension\n",
        "  if filename.endswith(extensions):\n",
        "    filename_noExt = filename.rsplit('.', 1)[0]\n",
        "    extension = filename.rsplit('.', 1)[1]\n",
        "    # Check language ID\n",
        "    if filename_noExt.endswith(languages):\n",
        "      filename_noExt_noLang = filename_noExt.rsplit('_', 1)[0]\n",
        "      # Check task identifier\n",
        "      if filename_noExt_noLang.endswith(task_suffixes):\n",
        "        filename_noExt_noLang_noTask = filename_noExt_noLang.rsplit('_', 1)[0]\n",
        "        task_ID = filename_noExt_noLang.rsplit('_', 1)[1]\n",
        "        # If there is a system name, open the files and check inside\n",
        "        if len(filename_noExt_noLang_noTask) > 0:\n",
        "          # txt files are for the D2T task; D2T-1 should have 1,779 lines, D2T-2 should have 1,800 lines.\n",
        "          if extension == 'txt':\n",
        "            file_lines = sys_output.readlines()\n",
        "            # Check line numbers in D2T-1 data\n",
        "            if task_ID in d2t1_IDs and not len(file_lines) == 1779:\n",
        "              print(f'  Error line numbers!\\n\\t{filename} should have 1,779 lines (found {len(file_lines)}).')\n",
        "            # Check line numbers in D2T-2 data\n",
        "            elif task_ID in d2t2_IDs and not len(file_lines) == 1800:\n",
        "              print(f'  Error line numbers!\\n\\t{filename} should have 1,800 lines (found {len(file_lines)}).')\n",
        "            else:\n",
        "              print('  OK!')\n",
        "          # json files are for the summ task; check well-formedness\n",
        "          elif extension == 'json':\n",
        "            try:\n",
        "              json.load(sys_output)\n",
        "            except:\n",
        "              print(f'  Error json formatting! Check {filename_noExt}.')\n",
        "            # There should additional be code to check the number of outputs in the submitted files\n",
        "        else:\n",
        "          print(f'  Error filename system name!\\n\\t{filename_noExt} should have a name before the task suffix.')\n",
        "      else:\n",
        "          print(f'  Error filename task suffix!\\n\\t{filename_noExt} should contain one of these task suffixes: {task_suffixes}.')\n",
        "    else:\n",
        "      print(f'  Error filename language suffix!\\n\\t{filename_noExt} should end with one of these language suffixes: {languages}.')\n",
        "  else:\n",
        "    print(f'  Error filename extension!\\n\\t{filename} should have one of these extensions (according to task): {extensions}.')\n",
        "\n",
        "for path_submission in paths_submissions:\n",
        "  # We should receive \"path_submission\" an \"sys_output\"\n",
        "  sys_output = codecs.open(path_submission, 'r', 'utf-8')\n",
        "\n",
        "  check_GEM_submissions(path_submission, sys_output)\n",
        "\n"
      ]
    },
    {
      "cell_type": "code",
      "source": [
        "#@title 3- Empty \"out\" folder if needed\n",
        "import shutil\n",
        "\n",
        "def clear_files(folder):\n",
        "  \"Function to clear files from a folder.\"\n",
        "  if os.path.exists(folder) and os.path.isdir(folder):\n",
        "    for filename in os.listdir(folder):\n",
        "      file_path = os.path.join(folder, filename)\n",
        "      try:\n",
        "        if os.path.isfile(file_path) or os.path.islink(file_path):\n",
        "          os.unlink(file_path)\n",
        "        elif os.path.isdir(file_path):\n",
        "          shutil.rmtree(file_path)\n",
        "      except Exception as e:\n",
        "        print('Failed to delete %s. Reason: %s' % (file_path, e))\n",
        "\n",
        "clear_files(out_folder)"
      ],
      "metadata": {
        "cellView": "form",
        "id": "ztVhqoOSRQkb"
      },
      "execution_count": null,
      "outputs": []
    }
  ]
}